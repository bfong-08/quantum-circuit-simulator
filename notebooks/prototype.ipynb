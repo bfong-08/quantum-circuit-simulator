{
 "cells": [
  {
   "cell_type": "markdown",
   "id": "df66c2ca",
   "metadata": {},
   "source": [
    "# Quantum States and Gates Exploration\n",
    "\n",
    "This notebook tests the functionality of quantum statevector simulators and quantum gate simulators."
   ]
  },
  {
   "cell_type": "code",
   "execution_count": 38,
   "id": "252b6c7c",
   "metadata": {},
   "outputs": [],
   "source": [
    "import numpy as np\n",
    "import numpy.typing as npt\n",
    "from random import random"
   ]
  },
  {
   "cell_type": "markdown",
   "id": "d9dc23c7",
   "metadata": {},
   "source": [
    "## Quantum States\n",
    "\n",
    "Quantum states should be able to:\n",
    "1. Store complex amplitudes\n",
    "3. Support measurement\n",
    "4. Handle multi-qubit systems\n",
    "5. Evolve according to quantum operations"
   ]
  },
  {
   "cell_type": "markdown",
   "id": "a6fa7794",
   "metadata": {},
   "source": [
    "### Utilities\n",
    "\n",
    "The absolute value of a number squared will likely be used often to find the probabilities of measurement outcomes.\n",
    "\n",
    "The Euclidean norm of a vector will likely be used often to check the validity of a statevector or a unitary matrix.\n",
    "\n",
    "The length of a statevector must be equal to a power of 2"
   ]
  },
  {
   "cell_type": "code",
   "execution_count": 39,
   "id": "8bef2990",
   "metadata": {},
   "outputs": [],
   "source": [
    "def abs_squared(num: complex | float):\n",
    "    return np.abs(np.square(num))\n",
    "\n",
    "def e_norm(vector: npt.NDArray):\n",
    "    return np.sum(abs_squared(vector))\n",
    "\n",
    "def is_pow_of_2(length: int):\n",
    "    while length % 2 == 0:\n",
    "        length //= 2\n",
    "    return length == 1"
   ]
  },
  {
   "cell_type": "markdown",
   "id": "a7c2bfa9",
   "metadata": {},
   "source": [
    "### Version 1\n",
    "\n",
    "The `Qubit` class will keep track of individual qubits, including their initialization, measurements, probabilities, and evolutions."
   ]
  },
  {
   "cell_type": "code",
   "execution_count": 40,
   "id": "5f780cfc",
   "metadata": {},
   "outputs": [],
   "source": [
    "class Qubit:\n",
    "    def __init__(self, alpha: complex, beta: complex):\n",
    "        if e_norm([alpha, beta]) != 1:\n",
    "            print(e_norm([alpha, beta]))\n",
    "            raise Exception(\"The Euclidean norm of the state must be 1\")\n",
    "        \n",
    "        self.alpha = alpha\n",
    "        self.beta = beta\n",
    "\n",
    "    def __str__(self):\n",
    "        return f\"{self.alpha}|0⟩ + {self.beta}|1⟩\"\n",
    "    \n",
    "    def measure(self):\n",
    "        if random() < abs_squared(self.alpha):\n",
    "            self.alpha = 1\n",
    "            self.beta = 0\n",
    "            return 0\n",
    "        else:\n",
    "            self.alpha = 0\n",
    "            self.beta = 1\n",
    "            return 1\n",
    "        \n",
    "    def evolve(self, operator: npt.NDArray):\n",
    "        if operator.shape != (2, 2):\n",
    "            raise Exception(f\"The operator's shape {operator.shape} is incompatible with the qubit\")\n",
    "        state = np.ndarray([self.alpha, self.beta])\n",
    "        transformed = operator @ state\n",
    "        self.alpha = transformed[0]\n",
    "        self.beta = transformed[1]\n",
    "\n",
    "    def to_numpy(self):\n",
    "        return np.ndarray([self.alpha, self.beta])\n",
    "        "
   ]
  },
  {
   "cell_type": "markdown",
   "id": "063406a9",
   "metadata": {},
   "source": [
    "### Testing\n",
    "\n",
    "Testing reveals that `e_norm` may result in rounding errors "
   ]
  },
  {
   "cell_type": "code",
   "execution_count": 41,
   "id": "511aee41",
   "metadata": {},
   "outputs": [],
   "source": [
    "# This test fails because the Euclidean norm is not exactly 1\n",
    "# q = Qubit(1/np.sqrt(2), 1/np.sqrt(2))"
   ]
  },
  {
   "cell_type": "markdown",
   "id": "4775d8ab",
   "metadata": {},
   "source": [
    "### Version 2\n",
    "\n",
    "Add tolerance to Euclidean norm checks and rounding to string representation"
   ]
  },
  {
   "cell_type": "code",
   "execution_count": 42,
   "id": "f27a98a1",
   "metadata": {},
   "outputs": [],
   "source": [
    "class Qubit:\n",
    "    def __init__(self, alpha: complex, beta: complex):\n",
    "        if abs(1 - e_norm([alpha, beta])) > 1e-5:\n",
    "            raise Exception(\"The Euclidean norm of the state must be 1\")\n",
    "        \n",
    "        self.alpha = alpha\n",
    "        self.beta = beta\n",
    "\n",
    "    def __str__(self):\n",
    "        return f\"{self.alpha:.4f}|0⟩ + {self.beta:.4f}|1⟩\"\n",
    "    \n",
    "    def measure(self):\n",
    "        if random() < abs_squared(self.alpha):\n",
    "            self.alpha = 1\n",
    "            self.beta = 0\n",
    "            return 0\n",
    "        else:\n",
    "            self.alpha = 0\n",
    "            self.beta = 1\n",
    "            return 1\n",
    "        \n",
    "    def evolve(self, operator: npt.NDArray):\n",
    "        if operator.shape != (2, 2):\n",
    "            raise Exception(f\"The operator's shape {operator.shape} is incompatible with the qubit\")\n",
    "        state = np.ndarray([self.alpha, self.beta])\n",
    "        transformed = operator @ state\n",
    "        self.alpha = transformed[0]\n",
    "        self.beta = transformed[1]\n",
    "\n",
    "    def to_numpy(self):\n",
    "        return np.ndarray([self.alpha, self.beta])\n",
    "        "
   ]
  },
  {
   "cell_type": "markdown",
   "id": "db55ddae",
   "metadata": {},
   "source": [
    "### Testing\n",
    "\n",
    "These tests show that the initialization, measurement, and string representation functions are working properly"
   ]
  },
  {
   "cell_type": "code",
   "execution_count": 61,
   "id": "f7eb5442",
   "metadata": {},
   "outputs": [
    {
     "name": "stdout",
     "output_type": "stream",
     "text": [
      "0.7071|0⟩ + 0.7071|1⟩\n",
      "1.0000|0⟩ + 0.0000|1⟩\n",
      "0.5000|0⟩ + 0.0000+0.8660j|1⟩\n",
      "1\n",
      "0.0000|0⟩ + 1.0000|1⟩\n",
      "{0: 257, 1: 743}\n"
     ]
    }
   ],
   "source": [
    "q = Qubit(1/np.sqrt(2), 1/np.sqrt(2))\n",
    "print(q)\n",
    "\n",
    "q = Qubit(1, 0)\n",
    "print(q)\n",
    "\n",
    "q = Qubit(0.5, complex(0, np.sqrt(3) / 2))\n",
    "print(q)\n",
    "\n",
    "print(q.measure())\n",
    "print(q)\n",
    "\n",
    "count = {\n",
    "    0: 0,\n",
    "    1: 0\n",
    "}\n",
    "for i in range(1000):\n",
    "    q = Qubit(0.5, complex(0, np.sqrt(3) / 2))\n",
    "    measurement = q.measure()\n",
    "    count[measurement] += 1\n",
    "\n",
    "# 0 should be measured 25% of the time\n",
    "# 1 should be measured 75% of the time\n",
    "print(count)"
   ]
  }
 ],
 "metadata": {
  "kernelspec": {
   "display_name": ".venv",
   "language": "python",
   "name": "python3"
  },
  "language_info": {
   "codemirror_mode": {
    "name": "ipython",
    "version": 3
   },
   "file_extension": ".py",
   "mimetype": "text/x-python",
   "name": "python",
   "nbconvert_exporter": "python",
   "pygments_lexer": "ipython3",
   "version": "3.13.1"
  }
 },
 "nbformat": 4,
 "nbformat_minor": 5
}
