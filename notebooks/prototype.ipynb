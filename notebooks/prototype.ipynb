{
 "cells": [
  {
   "cell_type": "markdown",
   "id": "df66c2ca",
   "metadata": {},
   "source": [
    "# Quantum States and Gates Exploration\n",
    "\n",
    "This notebook tests the functionality of quantum statevector simulators and quantum gate simulators."
   ]
  },
  {
   "cell_type": "code",
   "execution_count": 142,
   "id": "252b6c7c",
   "metadata": {},
   "outputs": [],
   "source": [
    "import numpy as np\n",
    "import numpy.typing as npt\n",
    "from random import random"
   ]
  },
  {
   "cell_type": "markdown",
   "id": "d9dc23c7",
   "metadata": {},
   "source": [
    "## Qubits\n",
    "\n",
    "Qubits should be able to:\n",
    "1. Store complex amplitudes\n",
    "2. Support measurement\n",
    "3. Evolve according to quantum operations"
   ]
  },
  {
   "cell_type": "markdown",
   "id": "a6fa7794",
   "metadata": {},
   "source": [
    "### Utilities\n",
    "\n",
    "The absolute value of a number squared will likely be used often to find the probabilities of measurement outcomes.\n",
    "\n",
    "The Euclidean norm of a vector will likely be used often to check the validity of a statevector or a unitary matrix.\n",
    "\n",
    "The length of a statevector must be equal to a power of 2"
   ]
  },
  {
   "cell_type": "code",
   "execution_count": 143,
   "id": "8bef2990",
   "metadata": {},
   "outputs": [],
   "source": [
    "def abs_squared(num: complex | float):\n",
    "    return np.abs(np.square(num))\n",
    "\n",
    "def e_norm(vector: npt.NDArray):\n",
    "    return np.sum(abs_squared(vector))\n",
    "\n",
    "def is_pow_of_2(length: int):\n",
    "    while length % 2 == 0:\n",
    "        length //= 2\n",
    "    return length == 1"
   ]
  },
  {
   "cell_type": "markdown",
   "id": "a7c2bfa9",
   "metadata": {},
   "source": [
    "### Version 1\n",
    "\n",
    "The `Qubit` class will keep track of individual qubits, including their initialization, measurements, probabilities, and evolutions."
   ]
  },
  {
   "cell_type": "code",
   "execution_count": 144,
   "id": "5f780cfc",
   "metadata": {},
   "outputs": [],
   "source": [
    "class Qubit:\n",
    "    def __init__(self, alpha: complex, beta: complex):\n",
    "        if e_norm([alpha, beta]) != 1:\n",
    "            print(e_norm([alpha, beta]))\n",
    "            raise Exception(\"The Euclidean norm of the state must be 1\")\n",
    "        \n",
    "        self.alpha = alpha\n",
    "        self.beta = beta\n",
    "\n",
    "    def __str__(self):\n",
    "        return f\"{self.alpha}|0⟩ + {self.beta}|1⟩\"\n",
    "    \n",
    "    def measure(self):\n",
    "        if random() < abs_squared(self.alpha):\n",
    "            self.alpha = 1\n",
    "            self.beta = 0\n",
    "            return 0\n",
    "        else:\n",
    "            self.alpha = 0\n",
    "            self.beta = 1\n",
    "            return 1\n",
    "        \n",
    "    def evolve(self, operator: npt.NDArray):\n",
    "        if operator.shape != (2, 2):\n",
    "            raise Exception(f\"The operator's shape {operator.shape} is incompatible with the qubit\")\n",
    "        state = np.ndarray([self.alpha, self.beta])\n",
    "        transformed = operator @ state\n",
    "        self.alpha = transformed[0]\n",
    "        self.beta = transformed[1]\n",
    "\n",
    "    def to_numpy(self):\n",
    "        return np.ndarray([self.alpha, self.beta])\n",
    "        "
   ]
  },
  {
   "cell_type": "markdown",
   "id": "063406a9",
   "metadata": {},
   "source": [
    "### Testing `Qubit`\n",
    "\n",
    "Testing reveals that `e_norm` may result in rounding errors "
   ]
  },
  {
   "cell_type": "code",
   "execution_count": 145,
   "id": "511aee41",
   "metadata": {},
   "outputs": [],
   "source": [
    "# This test fails because the Euclidean norm is not exactly 1\n",
    "# q = Qubit(1/np.sqrt(2), 1/np.sqrt(2))"
   ]
  },
  {
   "cell_type": "markdown",
   "id": "4775d8ab",
   "metadata": {},
   "source": [
    "### Version 2\n",
    "\n",
    "Add tolerance to Euclidean norm checks and rounding to string representation"
   ]
  },
  {
   "cell_type": "code",
   "execution_count": 146,
   "id": "f27a98a1",
   "metadata": {},
   "outputs": [],
   "source": [
    "class Qubit:\n",
    "    def __init__(self, alpha: complex, beta: complex):\n",
    "        if abs(1 - e_norm([alpha, beta])) > 1e-5:\n",
    "            raise Exception(\"The Euclidean norm of the state must be 1\")\n",
    "        \n",
    "        self.alpha = alpha\n",
    "        self.beta = beta\n",
    "\n",
    "    def __str__(self):\n",
    "        return f\"{self.alpha:.4f}|0⟩ + {self.beta:.4f}|1⟩\"\n",
    "    \n",
    "    def measure(self):\n",
    "        if random() < abs_squared(self.alpha):\n",
    "            self.alpha = 1\n",
    "            self.beta = 0\n",
    "            return 0\n",
    "        else:\n",
    "            self.alpha = 0\n",
    "            self.beta = 1\n",
    "            return 1\n",
    "        \n",
    "    def evolve(self, operator: npt.NDArray):\n",
    "        if operator.shape != (2, 2):\n",
    "            raise Exception(f\"The operator's shape {operator.shape} is incompatible with the qubit\")\n",
    "        state = np.array([self.alpha, self.beta])\n",
    "        transformed = operator @ state\n",
    "        self.alpha = transformed[0]\n",
    "        self.beta = transformed[1]\n",
    "\n",
    "    def to_numpy(self):\n",
    "        return np.array([self.alpha, self.beta])\n",
    "        "
   ]
  },
  {
   "cell_type": "markdown",
   "id": "db55ddae",
   "metadata": {},
   "source": [
    "### Testing `Qubit`\n",
    "\n",
    "These tests show that the initialization, measurement, and string representation functions are working properly"
   ]
  },
  {
   "cell_type": "code",
   "execution_count": 147,
   "id": "f7eb5442",
   "metadata": {},
   "outputs": [
    {
     "name": "stdout",
     "output_type": "stream",
     "text": [
      "0.7071|0⟩ + 0.7071|1⟩\n",
      "1.0000|0⟩ + 0.0000|1⟩\n",
      "0.5000|0⟩ + 0.0000+0.8660j|1⟩\n",
      "1\n",
      "0.0000|0⟩ + 1.0000|1⟩\n",
      "{0: 258, 1: 742}\n"
     ]
    }
   ],
   "source": [
    "q = Qubit(1/np.sqrt(2), 1/np.sqrt(2))\n",
    "print(q)\n",
    "\n",
    "q = Qubit(1, 0)\n",
    "print(q)\n",
    "\n",
    "q = Qubit(0.5, complex(0, np.sqrt(3) / 2))\n",
    "print(q)\n",
    "\n",
    "print(q.measure())\n",
    "print(q)\n",
    "\n",
    "count = {\n",
    "    0: 0,\n",
    "    1: 0\n",
    "}\n",
    "for i in range(1000):\n",
    "    q = Qubit(0.5, complex(0, np.sqrt(3) / 2))\n",
    "    measurement = q.measure()\n",
    "    count[measurement] += 1\n",
    "\n",
    "# 0 should be measured 25% of the time\n",
    "# 1 should be measured 75% of the time\n",
    "print(count)"
   ]
  },
  {
   "cell_type": "markdown",
   "id": "1a6b8dda",
   "metadata": {},
   "source": [
    "## Operators\n",
    "\n",
    "Operators should be able to:\n",
    "1. Transform qubits and larger statevectors"
   ]
  },
  {
   "cell_type": "markdown",
   "id": "ea4f5ab1",
   "metadata": {},
   "source": [
    "### Version 1\n",
    "\n",
    "The `Operator` class will keep track of information about the operator and ensure that it is a unitary matrix."
   ]
  },
  {
   "cell_type": "code",
   "execution_count": 148,
   "id": "3808b164",
   "metadata": {},
   "outputs": [],
   "source": [
    "class Operator:\n",
    "    def __init__(self, matrix: npt.NDArray | list):\n",
    "        matrix = np.array(matrix, dtype=complex)\n",
    "        if matrix.shape[0] != matrix.shape[1]:\n",
    "            raise Exception(\"The operation must be a square matrix\")\n",
    "        if not np.allclose((matrix @ np.conjugate(matrix).T), np.identity(matrix.shape[0]), atol=1e-5):\n",
    "            raise Exception(\"The operation must be a unitary matrix\")\n",
    "        self.operation = matrix\n",
    "    \n",
    "    def to_numpy(self):\n",
    "        return self.operation\n",
    "    \n",
    "    def __str__(self):\n",
    "        return str(self.operation.round(4))"
   ]
  },
  {
   "cell_type": "markdown",
   "id": "33f83bd8",
   "metadata": {},
   "source": [
    "### Testing `Operator`\n",
    "\n",
    "These tests show that the initialization is working."
   ]
  },
  {
   "cell_type": "code",
   "execution_count": 149,
   "id": "f5af348b",
   "metadata": {},
   "outputs": [
    {
     "name": "stdout",
     "output_type": "stream",
     "text": [
      "[[ 0.7071+0.j  0.7071+0.j]\n",
      " [ 0.7071+0.j -0.7071+0.j]]\n"
     ]
    }
   ],
   "source": [
    "h = Operator(np.array([\n",
    "    [1, 1],\n",
    "    [1, -1]\n",
    "]) / np.sqrt(2))\n",
    "\n",
    "print(h)\n"
   ]
  },
  {
   "cell_type": "markdown",
   "id": "a403264f",
   "metadata": {},
   "source": [
    "### Class Revision: Qubit (v3)\n",
    "\n",
    "**Reason for update:**\n",
    "\n",
    "The original implementation did not include account for the `Operator` class in the `evolve` method. The data type for the parameter must be `Operator` to ensure that the argument is a unitary matrix.\n",
    "\n",
    "**Changes made:**\n",
    "- Changed parameter type to `Operator` in `evolve` method\n",
    "- Added conversion from operator to NumPy"
   ]
  },
  {
   "cell_type": "code",
   "execution_count": 150,
   "id": "5c41a168",
   "metadata": {},
   "outputs": [],
   "source": [
    "class Qubit:\n",
    "    def __init__(self, alpha: complex, beta: complex):\n",
    "        if abs(1 - e_norm([alpha, beta])) > 1e-5:\n",
    "            raise Exception(\"The Euclidean norm of the state must be 1\")\n",
    "        \n",
    "        self.alpha = alpha\n",
    "        self.beta = beta\n",
    "\n",
    "    def __str__(self):\n",
    "        return f\"{self.alpha:.4f}|0⟩ + {self.beta:.4f}|1⟩\"\n",
    "    \n",
    "    def measure(self):\n",
    "        if random() < abs_squared(self.alpha):\n",
    "            self.alpha = 1\n",
    "            self.beta = 0\n",
    "            return 0\n",
    "        else:\n",
    "            self.alpha = 0\n",
    "            self.beta = 1\n",
    "            return 1\n",
    "        \n",
    "    def evolve(self, operator: Operator):\n",
    "        operator = operator.to_numpy()\n",
    "        if operator.shape != (2, 2):\n",
    "            raise Exception(f\"The operator's shape {operator.shape} is incompatible with the qubit\")\n",
    "        state = np.array([self.alpha, self.beta])\n",
    "        transformed = operator @ state\n",
    "        self.alpha = transformed[0]\n",
    "        self.beta = transformed[1]\n",
    "\n",
    "    def to_numpy(self):\n",
    "        return np.array([self.alpha, self.beta])\n",
    "        "
   ]
  },
  {
   "cell_type": "markdown",
   "id": "a4a66b86",
   "metadata": {},
   "source": [
    "### Testing `Qubit.evolve()`\n",
    "\n",
    "These tests demonstrate that qubits are correctly transformed by operators"
   ]
  },
  {
   "cell_type": "code",
   "execution_count": 153,
   "id": "df218fd6",
   "metadata": {},
   "outputs": [
    {
     "name": "stdout",
     "output_type": "stream",
     "text": [
      "1.0000|0⟩ + 0.0000|1⟩\n",
      "0.0000+0.0000j|0⟩ + 1.0000+0.0000j|1⟩\n",
      "0.0000|0⟩ + 1.0000|1⟩\n",
      "0.7071+0.0000j|0⟩ + -0.7071+0.0000j|1⟩\n"
     ]
    }
   ],
   "source": [
    "q = Qubit(1, 0)\n",
    "print(q)\n",
    "X = Operator([\n",
    "    [0, 1],\n",
    "    [1, 0]\n",
    "])\n",
    "q.evolve(X)\n",
    "print(q)\n",
    "\n",
    "q = Qubit(0, 1)\n",
    "print(q)\n",
    "H = Operator([\n",
    "    [1, 1],\n",
    "    [1, -1]\n",
    "] / np.sqrt(2))\n",
    "q.evolve(H)\n",
    "print(q)\n"
   ]
  }
 ],
 "metadata": {
  "kernelspec": {
   "display_name": ".venv",
   "language": "python",
   "name": "python3"
  },
  "language_info": {
   "codemirror_mode": {
    "name": "ipython",
    "version": 3
   },
   "file_extension": ".py",
   "mimetype": "text/x-python",
   "name": "python",
   "nbconvert_exporter": "python",
   "pygments_lexer": "ipython3",
   "version": "3.13.1"
  }
 },
 "nbformat": 4,
 "nbformat_minor": 5
}
