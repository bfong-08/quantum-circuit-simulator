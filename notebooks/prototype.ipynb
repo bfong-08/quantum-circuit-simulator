{
 "cells": [
  {
   "cell_type": "markdown",
   "id": "df66c2ca",
   "metadata": {},
   "source": [
    "# Quantum States and Gates Exploration\n",
    "\n",
    "This notebook tests the functionality of quantum statevector simulators and quantum gate simulators."
   ]
  },
  {
   "cell_type": "code",
   "execution_count": 518,
   "id": "252b6c7c",
   "metadata": {},
   "outputs": [],
   "source": [
    "import numpy as np\n",
    "import numpy.typing as npt\n",
    "from random import random"
   ]
  },
  {
   "cell_type": "markdown",
   "id": "d9dc23c7",
   "metadata": {},
   "source": [
    "## Qubits\n",
    "\n",
    "Qubits should be able to:\n",
    "1. Store complex amplitudes\n",
    "2. Support measurement\n",
    "3. Evolve according to quantum operations"
   ]
  },
  {
   "cell_type": "markdown",
   "id": "a6fa7794",
   "metadata": {},
   "source": [
    "### Utilities\n",
    "\n",
    "The absolute value of a number squared will likely be used often to find the probabilities of measurement outcomes.\n",
    "\n",
    "The Euclidean norm of a vector will likely be used often to check the validity of a statevector or a unitary matrix.\n",
    "\n",
    "The length of a statevector must be equal to a power of 2"
   ]
  },
  {
   "cell_type": "code",
   "execution_count": 519,
   "id": "8bef2990",
   "metadata": {},
   "outputs": [],
   "source": [
    "def abs_squared(num: complex | float):\n",
    "    return np.abs(np.square(num))\n",
    "\n",
    "def e_norm(vector: npt.NDArray):\n",
    "    return np.sum(abs_squared(vector))\n",
    "\n",
    "def is_pow_of_2(length: int):\n",
    "    while length % 2 == 0:\n",
    "        length //= 2\n",
    "    return length == 1"
   ]
  },
  {
   "cell_type": "markdown",
   "id": "a7c2bfa9",
   "metadata": {},
   "source": [
    "### Version 1\n",
    "\n",
    "The `Qubit` class will keep track of individual qubits, including their initialization, measurements, probabilities, and evolutions."
   ]
  },
  {
   "cell_type": "code",
   "execution_count": 520,
   "id": "5f780cfc",
   "metadata": {},
   "outputs": [],
   "source": [
    "class Qubit:\n",
    "    def __init__(self, alpha: complex, beta: complex):\n",
    "        if e_norm([alpha, beta]) != 1:\n",
    "            print(e_norm([alpha, beta]))\n",
    "            raise Exception(\"The Euclidean norm of the state must be 1\")\n",
    "        \n",
    "        self.alpha = alpha\n",
    "        self.beta = beta\n",
    "\n",
    "    def __str__(self):\n",
    "        return f\"{self.alpha}|0⟩ + {self.beta}|1⟩\"\n",
    "    \n",
    "    def measure(self):\n",
    "        if random() < abs_squared(self.alpha):\n",
    "            self.alpha = 1\n",
    "            self.beta = 0\n",
    "            return 0\n",
    "        else:\n",
    "            self.alpha = 0\n",
    "            self.beta = 1\n",
    "            return 1\n",
    "        \n",
    "    def evolve(self, operator: npt.NDArray):\n",
    "        if operator.shape != (2, 2):\n",
    "            raise Exception(f\"The operator's shape {operator.shape} is incompatible with the qubit\")\n",
    "        state = np.ndarray([self.alpha, self.beta])\n",
    "        transformed = operator @ state\n",
    "        self.alpha = transformed[0]\n",
    "        self.beta = transformed[1]\n",
    "\n",
    "    def to_numpy(self):\n",
    "        return np.ndarray([self.alpha, self.beta])\n",
    "        "
   ]
  },
  {
   "cell_type": "markdown",
   "id": "063406a9",
   "metadata": {},
   "source": [
    "### Testing `Qubit`\n",
    "\n",
    "Testing reveals that `e_norm` may result in rounding errors "
   ]
  },
  {
   "cell_type": "code",
   "execution_count": 521,
   "id": "511aee41",
   "metadata": {},
   "outputs": [],
   "source": [
    "# This test fails because the Euclidean norm is not exactly 1\n",
    "# q = Qubit(1/np.sqrt(2), 1/np.sqrt(2))"
   ]
  },
  {
   "cell_type": "markdown",
   "id": "4775d8ab",
   "metadata": {},
   "source": [
    "### Version 2\n",
    "\n",
    "Add tolerance to Euclidean norm checks and rounding to string representation"
   ]
  },
  {
   "cell_type": "code",
   "execution_count": 522,
   "id": "f27a98a1",
   "metadata": {},
   "outputs": [],
   "source": [
    "class Qubit:\n",
    "    def __init__(self, alpha: complex, beta: complex):\n",
    "        if abs(1 - e_norm([alpha, beta])) > 1e-5:\n",
    "            raise Exception(\"The Euclidean norm of the state must be 1\")\n",
    "        \n",
    "        self.alpha = alpha\n",
    "        self.beta = beta\n",
    "\n",
    "    def __str__(self):\n",
    "        return f\"{self.alpha:.4f}|0⟩ + {self.beta:.4f}|1⟩\"\n",
    "    \n",
    "    def measure(self):\n",
    "        if random() < abs_squared(self.alpha):\n",
    "            self.alpha = 1\n",
    "            self.beta = 0\n",
    "            return 0\n",
    "        else:\n",
    "            self.alpha = 0\n",
    "            self.beta = 1\n",
    "            return 1\n",
    "        \n",
    "    def evolve(self, operator: npt.NDArray):\n",
    "        if operator.shape != (2, 2):\n",
    "            raise Exception(f\"The operator's shape {operator.shape} is incompatible with the qubit\")\n",
    "        state = np.array([self.alpha, self.beta])\n",
    "        transformed = operator @ state\n",
    "        self.alpha = transformed[0]\n",
    "        self.beta = transformed[1]\n",
    "\n",
    "    def to_numpy(self):\n",
    "        return np.array([self.alpha, self.beta])\n",
    "        "
   ]
  },
  {
   "cell_type": "markdown",
   "id": "db55ddae",
   "metadata": {},
   "source": [
    "### Testing `Qubit`\n",
    "\n",
    "These tests show that the initialization, measurement, and string representation functions are working properly"
   ]
  },
  {
   "cell_type": "code",
   "execution_count": 523,
   "id": "f7eb5442",
   "metadata": {},
   "outputs": [
    {
     "name": "stdout",
     "output_type": "stream",
     "text": [
      "0.7071|0⟩ + 0.7071|1⟩\n",
      "1.0000|0⟩ + 0.0000|1⟩\n",
      "0.5000|0⟩ + 0.0000+0.8660j|1⟩\n",
      "1\n",
      "0.0000|0⟩ + 1.0000|1⟩\n",
      "{0: 239, 1: 761}\n"
     ]
    }
   ],
   "source": [
    "q = Qubit(1/np.sqrt(2), 1/np.sqrt(2))\n",
    "print(q)\n",
    "\n",
    "q = Qubit(1, 0)\n",
    "print(q)\n",
    "\n",
    "q = Qubit(0.5, complex(0, np.sqrt(3) / 2))\n",
    "print(q)\n",
    "\n",
    "print(q.measure())\n",
    "print(q)\n",
    "\n",
    "count = {\n",
    "    0: 0,\n",
    "    1: 0\n",
    "}\n",
    "for i in range(1000):\n",
    "    q = Qubit(0.5, complex(0, np.sqrt(3) / 2))\n",
    "    measurement = q.measure()\n",
    "    count[measurement] += 1\n",
    "\n",
    "# 0 should be measured 25% of the time\n",
    "# 1 should be measured 75% of the time\n",
    "print(count)"
   ]
  },
  {
   "cell_type": "markdown",
   "id": "1a6b8dda",
   "metadata": {},
   "source": [
    "## Operators\n",
    "\n",
    "Operators should be able to:\n",
    "1. Transform qubits and larger statevectors"
   ]
  },
  {
   "cell_type": "markdown",
   "id": "ea4f5ab1",
   "metadata": {},
   "source": [
    "### Version 1\n",
    "\n",
    "The `Operator` class will keep track of information about the operator and ensure that it is a unitary matrix."
   ]
  },
  {
   "cell_type": "code",
   "execution_count": 524,
   "id": "3808b164",
   "metadata": {},
   "outputs": [],
   "source": [
    "class Operator:\n",
    "    def __init__(self, matrix: npt.NDArray | list):\n",
    "        matrix = np.array(matrix, dtype=complex)\n",
    "        if matrix.shape[0] != matrix.shape[1]:\n",
    "            raise Exception(\"The operation must be a square matrix\")\n",
    "        if not np.allclose((matrix @ np.conjugate(matrix).T), np.identity(matrix.shape[0]), atol=1e-5):\n",
    "            raise Exception(\"The operation must be a unitary matrix\")\n",
    "        self.operation = matrix\n",
    "    \n",
    "    def to_numpy(self):\n",
    "        return self.operation\n",
    "    \n",
    "    def __str__(self):\n",
    "        return str(self.operation.round(4))"
   ]
  },
  {
   "cell_type": "markdown",
   "id": "33f83bd8",
   "metadata": {},
   "source": [
    "### Testing `Operator`\n",
    "\n",
    "These tests show that the initialization is working."
   ]
  },
  {
   "cell_type": "code",
   "execution_count": 525,
   "id": "f5af348b",
   "metadata": {},
   "outputs": [
    {
     "name": "stdout",
     "output_type": "stream",
     "text": [
      "[[ 0.7071+0.j  0.7071+0.j]\n",
      " [ 0.7071+0.j -0.7071+0.j]]\n"
     ]
    }
   ],
   "source": [
    "h = Operator(np.array([\n",
    "    [1, 1],\n",
    "    [1, -1]\n",
    "]) / np.sqrt(2))\n",
    "\n",
    "print(h)\n"
   ]
  },
  {
   "cell_type": "markdown",
   "id": "a403264f",
   "metadata": {},
   "source": [
    "### Class Revision: Qubit (v3)\n",
    "\n",
    "**Reason for update:**\n",
    "\n",
    "The original implementation did not include account for the `Operator` class in the `evolve` method. The data type for the parameter must be `Operator` to ensure that the argument is a unitary matrix.\n",
    "\n",
    "**Changes made:**\n",
    "- Changed parameter type to `Operator` in `evolve` method\n",
    "- Added conversion from operator to NumPy"
   ]
  },
  {
   "cell_type": "code",
   "execution_count": 526,
   "id": "5c41a168",
   "metadata": {},
   "outputs": [],
   "source": [
    "class Qubit:\n",
    "    def __init__(self, alpha: complex, beta: complex):\n",
    "        if abs(1 - e_norm([alpha, beta])) > 1e-5:\n",
    "            raise Exception(\"The Euclidean norm of the state must be 1\")\n",
    "        \n",
    "        self.alpha = alpha\n",
    "        self.beta = beta\n",
    "\n",
    "    def __str__(self):\n",
    "        return f\"{self.alpha:.4f}|0⟩ + {self.beta:.4f}|1⟩\"\n",
    "    \n",
    "    def measure(self):\n",
    "        if random() < abs_squared(self.alpha):\n",
    "            self.alpha = 1\n",
    "            self.beta = 0\n",
    "            return 0\n",
    "        else:\n",
    "            self.alpha = 0\n",
    "            self.beta = 1\n",
    "            return 1\n",
    "        \n",
    "    def evolve(self, operator: Operator):\n",
    "        operator = operator.to_numpy()\n",
    "        if operator.shape != (2, 2):\n",
    "            raise Exception(f\"The operator's shape {operator.shape} is incompatible with the qubit\")\n",
    "        state = np.array([self.alpha, self.beta])\n",
    "        transformed = operator @ state\n",
    "        self.alpha = transformed[0]\n",
    "        self.beta = transformed[1]\n",
    "\n",
    "    def to_numpy(self):\n",
    "        return np.array([self.alpha, self.beta])\n",
    "        "
   ]
  },
  {
   "cell_type": "markdown",
   "id": "a4a66b86",
   "metadata": {},
   "source": [
    "### Testing `Qubit.evolve()`\n",
    "\n",
    "These tests demonstrate that qubits are correctly transformed by operators"
   ]
  },
  {
   "cell_type": "code",
   "execution_count": 527,
   "id": "df218fd6",
   "metadata": {},
   "outputs": [
    {
     "name": "stdout",
     "output_type": "stream",
     "text": [
      "1.0000|0⟩ + 0.0000|1⟩\n",
      "0.0000+0.0000j|0⟩ + 1.0000+0.0000j|1⟩\n",
      "0.0000|0⟩ + 1.0000|1⟩\n",
      "0.7071+0.0000j|0⟩ + -0.7071+0.0000j|1⟩\n"
     ]
    }
   ],
   "source": [
    "q = Qubit(1, 0)\n",
    "print(q)\n",
    "X = Operator([\n",
    "    [0, 1],\n",
    "    [1, 0]\n",
    "])\n",
    "q.evolve(X)\n",
    "print(q)\n",
    "\n",
    "q = Qubit(0, 1)\n",
    "print(q)\n",
    "H = Operator([\n",
    "    [1, 1],\n",
    "    [1, -1]\n",
    "] / np.sqrt(2))\n",
    "q.evolve(H)\n",
    "print(q)"
   ]
  },
  {
   "cell_type": "markdown",
   "id": "b691758f",
   "metadata": {},
   "source": [
    "## Quantum Circuits\n",
    "\n",
    "Quantum circuits should be able to:\n",
    "1. Keep track of multiple qubits and create a single statevector representation\n",
    "2. Perform a series of operations on the qubits\n",
    "3. Update each individual qubit according to any operations or measurements"
   ]
  },
  {
   "cell_type": "markdown",
   "id": "08339365",
   "metadata": {},
   "source": [
    "### Version 1\n",
    "\n",
    "The `QuantumState` class will store a number of qubits in statevector and update each qubit according to any operations or measurements."
   ]
  },
  {
   "cell_type": "code",
   "execution_count": 528,
   "id": "1271907d",
   "metadata": {},
   "outputs": [],
   "source": [
    "class QuantumCircuit:\n",
    "    def __init__(self):\n",
    "        self.register: dict[str: Qubit] = {}\n",
    "        self.statevector: npt.NDArray = np.array([])\n",
    "\n",
    "    def add_qubit(self, qubit: Qubit, name: str):\n",
    "        self.register[name] = qubit\n",
    "        if len(self.statevector) == 0:\n",
    "            self.statevector = qubit.to_numpy()\n",
    "        else:\n",
    "            self.statevector = np.kron(\n",
    "                self.statevector, qubit.to_numpy()\n",
    "            )\n",
    "            \n",
    "\n",
    "    def measure(self, qubit: str):\n",
    "        if qubit in self.register.keys:\n",
    "            measurement = self.register[qubit].measure()\n",
    "            return measurement\n",
    "        else:\n",
    "            raise Exception(f\"There is no qubit named {qubit} in the circuit\")\n",
    "\n",
    "    def __str__(self):\n",
    "        return self.statevector.__str__()"
   ]
  },
  {
   "cell_type": "code",
   "execution_count": 529,
   "id": "bacbe2e7",
   "metadata": {},
   "outputs": [
    {
     "name": "stdout",
     "output_type": "stream",
     "text": [
      "[0.70710678 0.70710678 0.         0.        ]\n"
     ]
    }
   ],
   "source": [
    "a = Qubit(1, 0)\n",
    "q = Qubit(1/np.sqrt(2), 1/np.sqrt(2))\n",
    "circuit = QuantumCircuit()\n",
    "circuit.add_qubit(a, \"A\")\n",
    "circuit.add_qubit(q, \"Q\")\n",
    "\n",
    "print(circuit)"
   ]
  },
  {
   "cell_type": "markdown",
   "id": "7efc97fb",
   "metadata": {},
   "source": [
    "## !! Change of Plans !!\n",
    "\n",
    "I realized that due to entanglement, it is impossible to describe qubits independently once it is entangled with others. Because of this, I will transform the `Qubit` class to a `QuantumState` class that will keep track of any number of qubits in a statevector."
   ]
  },
  {
   "cell_type": "markdown",
   "id": "59afdf15",
   "metadata": {},
   "source": [
    "## Quantum States\n",
    "\n",
    "A quantum state should be able to:\n",
    "1. Keep track of multiple qubits in a single statevector\n",
    "2. Perform a series of operations on the qubits\n",
    "3. Update the statevector depending on any partial measurements"
   ]
  },
  {
   "cell_type": "markdown",
   "id": "ef679801",
   "metadata": {},
   "source": [
    "### Version 1\n",
    "\n",
    "The `QuantumState` class will take in a number of qubits, represent them through a statevector, and implement functionality for operators and partial measurements. For simplicity, some common operators will be built into the class."
   ]
  },
  {
   "cell_type": "code",
   "execution_count": 534,
   "id": "258f51ef",
   "metadata": {},
   "outputs": [],
   "source": [
    "class QuantumState:\n",
    "    def __init__(self, statevector: npt.NDArray):\n",
    "        if not is_pow_of_2(len(statevector)):\n",
    "            raise Exception(\"The length of the statevector must be a power of 2\")\n",
    "        if abs(1 - e_norm(statevector)) > 1e-5:\n",
    "            raise Exception(\"The Euclidean norm of the state must be 1\")\n",
    "        \n",
    "        self.state = np.array(statevector, dtype=complex)\n",
    "        self.n_qubits = round(np.log2(len(statevector)))\n",
    "\n",
    "    def __str__(self):\n",
    "        return self.state.round(4).__str__()\n",
    "    \n",
    "    @classmethod\n",
    "    def from_qubits(self, *qubits: 'npt.NDArray | QuantumState'):\n",
    "        statevector = np.array([1], dtype=complex)\n",
    "        for qubit in qubits:\n",
    "            if isinstance(qubit, QuantumState):\n",
    "                statevector = np.kron(statevector, qubit.to_numpy())\n",
    "            else:\n",
    "                statevector = np.kron(statevector, qubit)\n",
    "\n",
    "        return self(statevector)\n",
    "    \n",
    "    def add_qubit(self, qubit: 'npt.NDArray | QuantumState'):\n",
    "        if isinstance(qubit, QuantumState):\n",
    "            q = qubit.to_numpy()\n",
    "            self.state = np.kron(self.state, q)\n",
    "            self.n_qubits += round(np.log2(len(q)))\n",
    "        else:\n",
    "            self.state = np.kron(self.state, qubit)\n",
    "            self.n_qubits += round(np.log2(len(qubit)))\n",
    "    \n",
    "    def measure(self, index: int):\n",
    "        if index < 0 or index >= self.n_qubits:\n",
    "            raise Exception(f\"Qubit index {index} is out of range for {self.n_qubits} qubits\")\n",
    "\n",
    "        index = self.n_qubits - index - 1\n",
    "        probs = np.abs(np.square(self.state))\n",
    "\n",
    "        prob_0 = sum(probs[i] for i in self.get_qubit_indices(index, 0))\n",
    "        result = 0 if random() < prob_0 else 1\n",
    "\n",
    "        indices = self.get_qubit_indices(index, result)\n",
    "        mask = np.zeros_like(self.state)\n",
    "        mask[indices] = 1\n",
    "        self.state *= mask\n",
    "        self.state /= np.sqrt(sum(probs[indices]))\n",
    "        return result\n",
    "\n",
    "    def get_qubit_indices(self, index: int, outcome: int):\n",
    "        indices = []\n",
    "        for i in range(len(self.state)):\n",
    "            bits = format(i, f'0{self.n_qubits}b')\n",
    "            if int(bits[index]) == outcome:\n",
    "                indices.append(i)\n",
    "        return indices\n",
    "    \n",
    "    def CNOT(self, control: int, target: int):\n",
    "        control = self.n_qubits - control - 1\n",
    "        target = self.n_qubits - target - 1\n",
    "        new_state = np.zeros_like(self.state)\n",
    "        for i in range(len(self.state)):\n",
    "            b = format(i, f'0{self.n_qubits}b')\n",
    "            if b[control] == '1':\n",
    "                flipped = list(b)\n",
    "                flipped[target] = '0' if b[target] == '1' else '1'\n",
    "                j = int(''.join(flipped), 2)\n",
    "                new_state[j] += self.state[i]\n",
    "            else:\n",
    "                new_state[i] = self.state[i]\n",
    "        self.state = new_state\n",
    "        \n",
    "    def X(self, index: int):\n",
    "        index = self.n_qubits - index - 1\n",
    "        x = np.array([\n",
    "            [0, 1],\n",
    "            [1, 0]\n",
    "        ])\n",
    "        operator = self.__expand_operator(index, x)\n",
    "        self.state = operator @ self.state\n",
    "\n",
    "    def Z(self, index: int):\n",
    "        index = self.n_qubits - index - 1\n",
    "        z = np.array([\n",
    "            [1, 0],\n",
    "            [0, -1]\n",
    "        ])\n",
    "        operator = self.__expand_operator(index, z)\n",
    "        self.state = operator @ self.state\n",
    "\n",
    "    def H(self, index: int):\n",
    "        index = self.n_qubits - index - 1\n",
    "        h = np.array([\n",
    "            [1, 1],\n",
    "            [1, -1]\n",
    "        ]) / np.sqrt(2)\n",
    "        operator = self.__expand_operator(index, h)\n",
    "        self.state = operator @ self.state\n",
    "\n",
    "    def __expand_operator(self, index: int, operation: npt.NDArray):\n",
    "        i_2 = np.identity(2)\n",
    "        if index == 0:\n",
    "            operator = operation\n",
    "        else:\n",
    "            operator = i_2\n",
    "        for i in range(1, self.n_qubits):\n",
    "            if i == index:\n",
    "                operator = np.kron(operator, operation)\n",
    "            else:\n",
    "                operator = np.kron(operator, i_2)\n",
    "        return operator\n",
    "\n",
    "    def to_numpy(self):\n",
    "        return self.state"
   ]
  },
  {
   "cell_type": "markdown",
   "id": "f918f989",
   "metadata": {},
   "source": [
    "### Testing\n",
    "\n",
    "These tests demonstrate that the quantum state is working correctly. Qubits can be measured, added, and transformed using built-in operations."
   ]
  },
  {
   "cell_type": "code",
   "execution_count": 535,
   "id": "1e675685",
   "metadata": {},
   "outputs": [
    {
     "name": "stdout",
     "output_type": "stream",
     "text": [
      "[0.5+0.j 0. +0.j 0.5+0.j 0. +0.j 0.5+0.j 0. +0.j 0.5+0.j 0. +0.j]\n",
      "0\n",
      "[0.5+0.j 0. +0.j 0.5+0.j 0. +0.j 0.5+0.j 0. +0.j 0.5+0.j 0. +0.j]\n",
      "--------------------------------\n",
      "[0.7071+0.j 0.    +0.j 0.7071+0.j 0.    +0.j]\n",
      "[0.7071+0.j 0.    +0.j 0.    +0.j 0.7071+0.j]\n",
      "[0.7071+0.j 0.    +0.j 0.    +0.j 0.    +0.j 0.    +0.j 0.    +0.j\n",
      " 0.7071+0.j 0.    +0.j]\n",
      "0\n",
      "[1.+0.j 0.+0.j 0.+0.j 0.+0.j 0.+0.j 0.+0.j 0.+0.j 0.+0.j]\n",
      "--------------------------------\n",
      "[0.7071+0.j 0.7071+0.j 0.    +0.j 0.    +0.j]\n",
      "[0.7071+0.j 0.    +0.j 0.    +0.j 0.7071+0.j]\n",
      "0\n",
      "[1.+0.j 0.+0.j 0.+0.j 0.+0.j]\n",
      "[1.+0.j 0.+0.j 0.+0.j 0.+0.j]\n"
     ]
    }
   ],
   "source": [
    "state = QuantumState([0.5, 0, 0.5, 0, 0.5, 0, 0.5, 0])\n",
    "print(state)\n",
    "print(state.measure(0))\n",
    "print(state)\n",
    "\n",
    "print(\"-\" * 32)\n",
    "\n",
    "state = QuantumState([1, 0, 0, 0])\n",
    "state.H(1)\n",
    "print(state)\n",
    "\n",
    "state.CNOT(1, 0)\n",
    "print(state)\n",
    "\n",
    "q = QuantumState([1, 0])\n",
    "state.add_qubit(q)\n",
    "print(state)\n",
    "\n",
    "print(state.measure(1))\n",
    "print(state)\n",
    "\n",
    "print(\"-\" * 32)\n",
    "\n",
    "state = QuantumState([1, 0, 0, 0])\n",
    "state.H(0)\n",
    "print(state)\n",
    "\n",
    "state.CNOT(0, 1)\n",
    "print(state)\n",
    "\n",
    "print(state.measure(0))\n",
    "print(state)\n",
    "\n",
    "A = np.array([1, 0], dtype=complex)\n",
    "B = np.array([1, 0], dtype=complex)\n",
    "\n",
    "state = QuantumState.from_qubits(A, B)\n",
    "print(state)\n"
   ]
  }
 ],
 "metadata": {
  "kernelspec": {
   "display_name": ".venv",
   "language": "python",
   "name": "python3"
  },
  "language_info": {
   "codemirror_mode": {
    "name": "ipython",
    "version": 3
   },
   "file_extension": ".py",
   "mimetype": "text/x-python",
   "name": "python",
   "nbconvert_exporter": "python",
   "pygments_lexer": "ipython3",
   "version": "3.13.1"
  }
 },
 "nbformat": 4,
 "nbformat_minor": 5
}
